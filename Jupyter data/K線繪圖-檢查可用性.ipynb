{
 "cells": [
  {
   "cell_type": "code",
   "execution_count": 1,
   "metadata": {},
   "outputs": [
    {
     "name": "stderr",
     "output_type": "stream",
     "text": [
      "C:\\Users\\cachc\\Anaconda3\\lib\\site-packages\\h5py\\__init__.py:36: FutureWarning: Conversion of the second argument of issubdtype from `float` to `np.floating` is deprecated. In future, it will be treated as `np.float64 == np.dtype(float).type`.\n",
      "  from ._conv import register_converters as _register_converters\n"
     ]
    }
   ],
   "source": [
    "import pandas as pd\n",
    "import numpy as np\n",
    "import time\n",
    "import csv\n",
    "#import tensorflow as tf\n",
    "import matplotlib.pyplot as plt\n",
    "from mpl_finance import candlestick2_ochl,volume_overlay\n",
    "import talib\n",
    "from math import log, exp\n",
    "from matplotlib import dates as mdates\n",
    "from matplotlib import ticker as mticker\n",
    "from matplotlib.dates import DateFormatter, WeekdayLocator, DayLocator, MONDAY,YEARLY\n",
    "from matplotlib.dates import MonthLocator,MONTHLY\n",
    "import datetime as dt\n",
    "import pylab\n",
    "import h5py\n",
    "from PIL import Image\n",
    "import os\n",
    "import threading\n",
    "import multiprocessing as mp\n",
    "from multiprocessing import Pool\n",
    "import random\n",
    "import imageio\n",
    "\n",
    "import kdraw_checkpic_useable\n",
    "%matplotlib inline\n"
   ]
  },
  {
   "cell_type": "code",
   "execution_count": 2,
   "metadata": {},
   "outputs": [
    {
     "name": "stdout",
     "output_type": "stream",
     "text": [
      "[5795, 585, 5166, 1656, 6638, 1112, 5327, 4755, 3714, 3464, 4659, 3938, 4693, 5286, 5781, 6638, 4905, 6638, 828, 4028, 3938, 960, 1656, 4016, 2393, 2910, 6638, 6638, 4862, 6084, 4042, 3441, 3930, 1641, 531, 828, 3159, 4647, 1445, 6615, 5212, 6425, 4720, 6638, 5245, 6638, 908, 183, 3708, 2881, 3651, 5389, 2665, 5704, 6638, 4196, 5975, 6638, 6638, 3440, 6310, 987, 3698, 3182, 4690, 1672, 2011, 4554, 897, 6084, 6302, 3839, 5019, 1384, 3925, 3151, 6606, 2538, 3128, 1190, 1139, 3605, 2480, 1393, 6638, 3708, 3708, 3916, 4672, 6526, 2261, 6638, 4102, 6606, 5487, 399, 6602, 5551, 3099, 6638, 2881, 645, 4131, 6638, 6638, 6638, 4032, 2709, 5993, 6638, 3645]\n"
     ]
    }
   ],
   "source": [
    "if __name__ == '__main__':\n",
    "    \n",
    "    \n",
    "    \n",
    "    \n",
    "    mp.set_start_method('spawn')\n",
    "    stocknum = {'0051','1102','1216','1227','1314','1319','1434','1451','1476','1477','1504','1536','1560','1590',\n",
    "                '1605','1704','1717','1718','1722','1723','1789','1802','1909','2015','2049','2059','2106','2201',\n",
    "                '2204','2207','2227','2231','2312','2313','2324','2327','2337','2344','2347','2352','2353','2356',\n",
    "                '2360','2371','2376','2377','2379','2385','2439','2448','2449','2451','2478','2492','2498','2542',\n",
    "                '2603','2606','2610','2615','2618','2723','2809','2812','2834','2845','2867','2888','2912','2915',\n",
    "                '3019','3034','3044','3051','3189','3231','3406','3443','3532','3673','3682','3702','3706','4137',\n",
    "                '4915','4943','4958','5264','5522','5871','6005','6116','6176','6239','6269','6285','6409','6414',\n",
    "                '6415','6452','6456','8454','8464','9910','9914','9917','9921','9933','9938','9941','9945'}\n",
    "    stocknum = list(stocknum)\n",
    "    \n",
    "    \n",
    "    pool = Pool()\n",
    "    res = pool.map(kdraw_checkpic_useable.drawpic, stocknum)\n",
    "    print(res)\n"
   ]
  },
  {
   "cell_type": "code",
   "execution_count": 7,
   "metadata": {},
   "outputs": [
    {
     "name": "stdout",
     "output_type": "stream",
     "text": [
      "<class 'list'>\n",
      "456395\n"
     ]
    }
   ],
   "source": [
    "print(type(res))\n",
    "num=0\n",
    "for count in res:\n",
    "    num += count\n",
    "print(num)\n"
   ]
  },
  {
   "cell_type": "code",
   "execution_count": null,
   "metadata": {},
   "outputs": [],
   "source": []
  }
 ],
 "metadata": {
  "kernelspec": {
   "display_name": "Python 3",
   "language": "python",
   "name": "python3"
  },
  "language_info": {
   "codemirror_mode": {
    "name": "ipython",
    "version": 3
   },
   "file_extension": ".py",
   "mimetype": "text/x-python",
   "name": "python",
   "nbconvert_exporter": "python",
   "pygments_lexer": "ipython3",
   "version": "3.6.4"
  }
 },
 "nbformat": 4,
 "nbformat_minor": 2
}
