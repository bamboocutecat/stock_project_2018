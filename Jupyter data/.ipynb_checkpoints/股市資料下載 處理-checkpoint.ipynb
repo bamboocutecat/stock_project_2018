{
 "cells": [
  {
   "cell_type": "code",
   "execution_count": 1,
   "metadata": {
    "collapsed": true
   },
   "outputs": [],
   "source": [
    "import urllib.request\n",
    "import time\n",
    "import csv\n",
    "import pandas as pd\n",
    "import tensorflow as tf\n",
    "import matplotlib.pyplot as plt\n",
    "import numpy as np"
   ]
  },
  {
   "cell_type": "code",
   "execution_count": 2,
   "metadata": {
    "collapsed": true
   },
   "outputs": [],
   "source": [
    "stocknum = {'0051','1102','1216','1227','1314','1319','1434','1451','1476','1477','1504','1536','1560','1590',\n",
    "            '1605','1704','1717','1718','1722','1723','1789','1802','1909','2015','2049','2059','2106','2201',\n",
    "            '2204','2207','2227','2231','2312','2313','2324','2327','2337','2344','2347','2352','2353','2356',\n",
    "            '2360','2371','2376','2377','2379','2385','2439','2448','2449','2451','2478','2492','2498','2542',\n",
    "            '2603','2606','2610','2615','2618','2723','2809','2812','2834','2845','2867','2888','2912','2915',\n",
    "            '3019','3034','3044','3051','3189','3231','3406','3443','3532','3673','3682','3702','3706','4137',\n",
    "            '4915','4943','4958','5264','5522','5871','6005','6116','6176','6239','6269','6285','6409','6414',\n",
    "            '6415','6452','6456','8454','8464','9910','9914','9917','9921','9933','9938','9941','9945'}\n",
    "years = 1992\n",
    "months = 1\n",
    "days = 1"
   ]
  },
  {
   "cell_type": "raw",
   "metadata": {
    "collapsed": true
   },
   "source": [
    "etfdata = open('C:/Users/bambo/OneDrive/Desktop/新文字文件.txt','r')\n",
    "for row in etfdata:\n",
    "    #print(row)\n",
    "    for i,j in enumerate(row) :\n",
    "        #print (word)\n",
    "        if j=='(':\n",
    "            print(',\\''+ row[i+1:i+5]+ '\\'',end=\"\")\n",
    "        else:\n",
    "            continue\n",
    "#########################################################         抽取0051成分股"
   ]
  },
  {
   "cell_type": "code",
   "execution_count": null,
   "metadata": {
    "collapsed": true
   },
   "outputs": [],
   "source": [
    "for year in range(years,2018):\n",
    "    for m in range(months,5):\n",
    "#########################################################                股市資料下載\n",
    "        for stockid in stocknum:\n",
    "            if m >= 10:\n",
    "                url =('http://www.twse.com.tw/exchangeReport/STOCK_DAY?response=csv&date='+str(year)+str(m)+'01'+'&stockNo='+stockid)\n",
    "            else:\n",
    "                url =('http://www.twse.com.tw/exchangeReport/STOCK_DAY?response=csv&date='+str(year)+'0'+str(m)+'01'+'&stockNo='+stockid)\n",
    "            try:\n",
    "                open('D:/專題使用/新股票資料/' +stockid+'_' +str(year) + '_' + str(m) + '.csv','r')\n",
    "            except FileNotFoundError:    \n",
    "                try:\n",
    "                    f = urllib.request.urlretrieve(url,'D:/專題使用/新股票資料/' +stockid+'_' +str(year) + '_' + str(m) + '.csv')\n",
    "                    time.sleep(3)\n",
    "                except urllib.error.URLError:\n",
    "                    continue\n",
    "                except FileExistsError:\n",
    "                    continue\n",
    "#########################################################               股市資料下載"
   ]
  },
  {
   "cell_type": "code",
   "execution_count": null,
   "metadata": {
    "scrolled": true
   },
   "outputs": [
    {
     "name": "stdout",
     "output_type": "stream",
     "text": [
      "2448\n",
      "1789\n",
      "2915\n",
      "3682\n",
      "1434\n",
      "2015\n",
      "6176\n",
      "1477\n",
      "9910\n",
      "1605\n",
      "2542\n",
      "9945\n",
      "2912\n",
      "2439\n",
      "5264\n",
      "1314\n",
      "2352\n",
      "8454\n",
      "6005\n",
      "9941\n",
      "2845\n",
      "3702\n",
      "6415\n",
      "3051\n",
      "1704\n",
      "5522\n",
      "2606\n"
     ]
    }
   ],
   "source": [
    "import h5py\n",
    "import codecs\n",
    "#########################################################             股市資料處理\n",
    "count = np.zeros((111))\n",
    "countstock = 0\n",
    "#########################################################   合併  轉float64 輸出hdf5\n",
    "for stockid in stocknum:\n",
    "    mixed_data = pd.DataFrame()\n",
    "\n",
    "    for year in range(years,2018):\n",
    "        for m in range(months,13):\n",
    "            try:\n",
    "                f = open('D:/program/新股票資料/' +stockid+'_'+ str(year) + '_' + str(m) + '.csv','r',encoding='cp950')  \n",
    "            except FileNotFoundError:\n",
    "                continue\n",
    "\n",
    "            try:\n",
    "                df = pd.read_csv(f,header=1)\n",
    "            except:\n",
    "                print('error'+stockid+str(year)+str(m))\n",
    "                continue\n",
    "                \n",
    "            df = df.iloc[:,0:7]\n",
    "            \n",
    "            nan_flag = 0\n",
    "            try:\n",
    "                for col in df.columns[3:7]:\n",
    "                    df[col] = df[col].astype('float64')\n",
    "            except:\n",
    "                nan_flag = 1\n",
    "                for i,row in enumerate(df['開盤價']):\n",
    "                    try:\n",
    "                        df.iloc[i,3:7].astype('float64')\n",
    "                        #print(df.iloc[i,3:7])\n",
    "                    except :\n",
    "                        #print(df.iloc[i,3:7])\n",
    "                        df.iloc[i,2]= np.nan\n",
    "                        #print(df)\n",
    "                        \n",
    "            df.dropna(how='any',inplace=True) \n",
    "            \n",
    "            if nan_flag==1:\n",
    "                #print(df)\n",
    "                for col in df.columns[3:7]:\n",
    "                    df[col] = df[col].astype('float64')\n",
    "                #print (df.dtypes)\n",
    "            \n",
    "            \n",
    "            \n",
    "            mixed_data = pd.concat([mixed_data,df],ignore_index=True)\n",
    "            #print(mixed_data)\n",
    "    \n",
    "    \n",
    "    #print(mixed_data.dtypes)\n",
    "    count[countstock]=len(mixed_data)\n",
    "    countstock=countstock+1\n",
    "    \n",
    "    mixed_data.to_hdf(stockid+'.h5','stock_data',mode='w',dropna=True,format='table')\n",
    "    print(stockid)\n",
    "#########################################################   合併  轉float64 輸出hdf5\n"
   ]
  },
  {
   "cell_type": "code",
   "execution_count": null,
   "metadata": {
    "collapsed": true
   },
   "outputs": [],
   "source": [
    "print(count)\n",
    "all_day_sum = 0\n",
    "for row in count.flatten():\n",
    "    all_day_sum = all_day_sum + (row-50)/1 + 1 - 50\n",
    "all_day_sum"
   ]
  }
 ],
 "metadata": {
  "kernelspec": {
   "display_name": "Python 3",
   "language": "python",
   "name": "python3"
  },
  "language_info": {
   "codemirror_mode": {
    "name": "ipython",
    "version": 3
   },
   "file_extension": ".py",
   "mimetype": "text/x-python",
   "name": "python",
   "nbconvert_exporter": "python",
   "pygments_lexer": "ipython3",
   "version": "3.6.3"
  }
 },
 "nbformat": 4,
 "nbformat_minor": 2
}
