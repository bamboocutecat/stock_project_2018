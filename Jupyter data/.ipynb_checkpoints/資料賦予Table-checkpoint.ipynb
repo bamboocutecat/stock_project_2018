{
 "cells": [
  {
   "cell_type": "code",
   "execution_count": 1,
   "metadata": {
    "collapsed": true
   },
   "outputs": [],
   "source": [
    "import twstock\n",
    "import pandas as pd\n",
    "import numpy as np\n",
    "import urllib.request\n",
    "import time\n",
    "import csv\n",
    "#import tensorflow as tf\n",
    "import matplotlib.pyplot as plt\n",
    "from mpl_finance import candlestick2_ochl,volume_overlay\n",
    "import talib\n",
    "from math import log, exp\n",
    "from matplotlib import dates as mdates\n",
    "from matplotlib import ticker as mticker\n",
    "from matplotlib.dates import DateFormatter, WeekdayLocator, DayLocator, MONDAY,YEARLY\n",
    "from matplotlib.dates import MonthLocator,MONTHLY\n",
    "import datetime as dt\n",
    "import pylab\n",
    "import h5py\n",
    "import math\n",
    "import os\n",
    "%matplotlib inline"
   ]
  },
  {
   "cell_type": "code",
   "execution_count": 2,
   "metadata": {
    "collapsed": true
   },
   "outputs": [],
   "source": [
    "stocknum = {'0051','1102','1216','1227','1314','1319','1434','1451','1476','1477','1504','1536','1560','1590',\n",
    "            '1605','1704','1717','1718','1722','1723','1789','1802','1909','2015','2049','2059','2106','2201',\n",
    "            '2204','2207','2227','2231','2312','2313','2324','2327','2337','2344','2347','2352','2353','2356',\n",
    "            '2360','2371','2376','2377','2379','2385','2439','2448','2449','2451','2478','2492','2498','2542',\n",
    "            '2603','2606','2610','2615','2618','2723','2809','2812','2834','2845','2867','2888','2912','2915',\n",
    "            '3019','3034','3044','3051','3189','3231','3406','3443','3532','3673','3682','3702','3706','4137',\n",
    "            '4915','4943','4958','5264','5522','5871','6005','6116','6176','6239','6269','6285','6409','6414',\n",
    "            '6415','6452','6456','8454','8464','9910','9914','9917','9921','9933','9938','9941','9945'}"
   ]
  },
  {
   "cell_type": "code",
   "execution_count": null,
   "metadata": {
    "collapsed": true
   },
   "outputs": [],
   "source": [
    "Y_slicing = 1\n",
    "X_window = 50\n",
    "K_changedays = 50"
   ]
  },
  {
   "cell_type": "code",
   "execution_count": null,
   "metadata": {
    "collapsed": true
   },
   "outputs": [],
   "source": [
    "##############################       將變化量新建h5  \n",
    "import math\n",
    "\n",
    "for stockid in stocknum:\n",
    "    df = pd.read_hdf(stockid+'.h5','stock_data')\n",
    "    recordchangedata_np_ar = np.zeros((len(df)- X_window + 1 - K_changedays,2))\n",
    "    \n",
    "    for Y in range(int((len(df)- X_window)/ Y_slicing + 1 - K_changedays)):\n",
    "        \n",
    "        sumchange_plus = 0\n",
    "        sumchange_minus = 0\n",
    "        \n",
    "        for i,K in enumerate(df.iloc[Y+K_changedays:Y+100,6]):  \n",
    "            \n",
    "            if  K- df.iloc[Y+K_changedays-1,6] > 0:\n",
    "                sumchange_plus += K- df.iloc[Y+K_changedays-1,6]\n",
    "            if  K- df.iloc[Y+K_changedays-1,6] < 0:\n",
    "                sumchange_minus += abs(K- df.iloc[Y+K_changedays-1,6])\n",
    "        \n",
    "        recordchangedata_np_ar[Y][0] = sumchange_plus\n",
    "        recordchangedata_np_ar[Y][1] = sumchange_minus\n",
    "        \n",
    "    se_rcd = pd.DataFrame(recordchangedata_np_ar,columns=['plus','minus'])\n",
    "    se_rcd.to_hdf(stockid+'_table.h5','stock_data_table',format='table',mode='w')\n",
    "        "
   ]
  },
  {
   "cell_type": "code",
   "execution_count": null,
   "metadata": {},
   "outputs": [],
   "source": [
    "######################################         觀察變化量與價格關係\n",
    "df_table = pd.read_hdf('2912_table.h5','stock_data_table')\n",
    "df = pd.read_hdf('2912.h5','stock_data')\n",
    "\n",
    "fig = plt.figure()\n",
    "\n",
    "plt.plot(df.loc[50:150,'收盤價'],'r')\n",
    "plt.show()\n",
    "plt.plot(df_table[0:50])\n",
    "plt.show()"
   ]
  },
  {
   "cell_type": "code",
   "execution_count": null,
   "metadata": {
    "scrolled": true
   },
   "outputs": [],
   "source": [
    "########################################       求證總數無誤  將所有變化量統合\n",
    "countZ=0\n",
    "sum_df=pd.DataFrame()\n",
    "\n",
    "for stockid in stocknum:\n",
    "    df_table = pd.read_hdf(stockid+'_table.h5','stock_data_table')\n",
    "    countZ += len(df_table)\n",
    "    sum_df = pd.concat([sum_df,df_table],ignore_index=True)\n",
    "    \n",
    "\n",
    "print(countZ)\n",
    "#print(sum_df)      ####################            OKOKOKOKOK\n",
    "        \n",
    "print(sum_df.describe())"
   ]
  },
  {
   "cell_type": "code",
   "execution_count": 9,
   "metadata": {
    "scrolled": true
   },
   "outputs": [
    {
     "name": "stdout",
     "output_type": "stream",
     "text": [
      "(2011, 3)\n",
      "(3440, 3)\n",
      "(6425, 3)\n",
      "(2881, 3)\n",
      "(5286, 3)\n",
      "(6638, 3)\n",
      "(1190, 3)\n",
      "(1656, 3)\n",
      "(4131, 3)\n",
      "(4755, 3)\n",
      "(5019, 3)\n",
      "(3938, 3)\n",
      "(3938, 3)\n",
      "(1656, 3)\n",
      "(531, 3)\n",
      "(2261, 3)\n",
      "(6638, 3)\n",
      "(6638, 3)\n",
      "(6638, 3)\n",
      "(4554, 3)\n",
      "(6638, 3)\n",
      "(3708, 3)\n",
      "(5166, 3)\n",
      "(4693, 3)\n",
      "(4042, 3)\n",
      "(1445, 3)\n",
      "(4196, 3)\n",
      "(3925, 3)\n",
      "(5975, 3)\n",
      "(6638, 3)\n",
      "(6638, 3)\n",
      "(3182, 3)\n",
      "(3714, 3)\n",
      "(2538, 3)\n",
      "(6602, 3)\n",
      "(3916, 3)\n",
      "(3151, 3)\n",
      "(6638, 3)\n",
      "(3698, 3)\n",
      "(2480, 3)\n",
      "(4028, 3)\n",
      "(3930, 3)\n",
      "(6526, 3)\n",
      "(6638, 3)\n",
      "(399, 3)\n",
      "(4905, 3)\n",
      "(2910, 3)\n",
      "(6615, 3)\n",
      "(5781, 3)\n",
      "(6638, 3)\n",
      "(3708, 3)\n",
      "(585, 3)\n",
      "(6606, 3)\n",
      "(3651, 3)\n",
      "(3708, 3)\n",
      "(828, 3)\n",
      "(960, 3)\n",
      "(1641, 3)\n",
      "(1384, 3)\n",
      "(4647, 3)\n",
      "(3128, 3)\n",
      "(5795, 3)\n",
      "(5245, 3)\n",
      "(4720, 3)\n",
      "(6606, 3)\n",
      "(4032, 3)\n",
      "(4659, 3)\n",
      "(3464, 3)\n",
      "(6310, 3)\n",
      "(5993, 3)\n",
      "(6638, 3)\n",
      "(5704, 3)\n",
      "(1112, 3)\n",
      "(897, 3)\n",
      "(5327, 3)\n",
      "(6638, 3)\n",
      "(6302, 3)\n",
      "(908, 3)\n",
      "(4102, 3)\n",
      "(1672, 3)\n",
      "(3099, 3)\n",
      "(2665, 3)\n",
      "(4690, 3)\n",
      "(5551, 3)\n",
      "(3159, 3)\n",
      "(4672, 3)\n",
      "(6638, 3)\n",
      "(6638, 3)\n",
      "(4862, 3)\n",
      "(4016, 3)\n",
      "(645, 3)\n",
      "(3605, 3)\n",
      "(6084, 3)\n",
      "(6084, 3)\n",
      "(2881, 3)\n",
      "(3839, 3)\n",
      "(5389, 3)\n",
      "(987, 3)\n",
      "(2709, 3)\n",
      "(6638, 3)\n",
      "(5487, 3)\n",
      "(6638, 3)\n",
      "(1393, 3)\n",
      "(6638, 3)\n",
      "(2393, 3)\n",
      "(1139, 3)\n",
      "(3441, 3)\n",
      "(828, 3)\n",
      "(3645, 3)\n",
      "(183, 3)\n",
      "(5212, 3)\n"
     ]
    }
   ],
   "source": [
    "##########################################   將分類套用並存h5   依變化量\n",
    "for stockid in stocknum:\n",
    "    df_table = pd.read_hdf(stockid+'_table.h5','stock_data_table',mode='r')\n",
    "    table_sumchange = np.zeros((len(df_table),3))\n",
    "    \n",
    "    for i,value in enumerate(df_table.values)  :\n",
    "        if value[0] >70 and value[1]<=70:\n",
    "            table_sumchange[i][0]=1\n",
    "        if value[0] <=70 and value[1]>70:\n",
    "            table_sumchange[i][1]=1\n",
    "        if (value[0] <70 and value[1]<70) or (value[0] >70 and value[1]>70):\n",
    "            table_sumchange[i][2]=1\n",
    "    print(table_sumchange.shape)\n",
    "    table_sumchange_df = pd.DataFrame(table_sumchange,columns=['plus','minus','unchange'])\n",
    "    table_sumchange_df.to_hdf(stockid+'_table_sumchange.h5','stock_data_table',format='table',mode='w')\n",
    "            "
   ]
  },
  {
   "cell_type": "code",
   "execution_count": 10,
   "metadata": {},
   "outputs": [
    {
     "name": "stdout",
     "output_type": "stream",
     "text": [
      "456395\n",
      "                plus          minus       unchange\n",
      "count  456395.000000  456395.000000  456395.000000\n",
      "mean        0.296445       0.282950       0.420467\n",
      "std         0.456690       0.450433       0.493635\n",
      "min         0.000000       0.000000       0.000000\n",
      "25%         0.000000       0.000000       0.000000\n",
      "50%         0.000000       0.000000       0.000000\n",
      "75%         1.000000       1.000000       1.000000\n",
      "max         1.000000       1.000000       1.000000\n"
     ]
    }
   ],
   "source": [
    "########################################       求證總數無誤  將所有變化量統合\n",
    "countZ=0\n",
    "sum_df=pd.DataFrame()\n",
    "\n",
    "for stockid in stocknum:\n",
    "    df_table = pd.read_hdf(stockid+'_table_sumchange.h5','stock_data_table')\n",
    "    countZ += len(df_table)\n",
    "    sum_df = pd.concat([sum_df,df_table],ignore_index=True)\n",
    "    \n",
    "\n",
    "print(countZ)\n",
    "#print(sum_df)      ####################            OKOKOKOKOK\n",
    "        \n",
    "print(sum_df.describe())"
   ]
  },
  {
   "cell_type": "raw",
   "metadata": {},
   "source": [
    "############################################      查看分類\n",
    "for stockid in stocknum:\n",
    "    df_table = pd.read_hdf(stockid+'_table.h5','stock_data_table_new',mode='r')\n",
    "    print(df_table.describe())"
   ]
  },
  {
   "cell_type": "raw",
   "metadata": {},
   "source": [
    "##########################################   將分類套用並存h5   依幾天內會賺\n",
    "for stockid in stocknum:\n",
    "    df_table = pd.read_hdf(stockid+'.h5','stock_data',mode='r')\n",
    "    \n",
    "    ten_days_table = np.zeros( int(((len(df)- X_window)/ Y_slicing + 1 - K_changedays)),5 )\n",
    "    \n",
    "    for Y in range(int((len(df)- X_window)/ Y_slicing + 1 - K_changedays)):\n",
    "        \n",
    "        for i,row in enumerate(df_table['收盤價'].values) :\n",
    "            if df_table.iloc[i+9,6] - df_table.iloc[i,6]:\n",
    "                ten_days_table[0] = 1\n",
    "            if df_table.iloc[i+9,6] - df_table.iloc[i,6]:\n",
    "                df_table[i] = 1\n",
    "            if df_table.iloc[i+9,6] - df_table.iloc[i,6]:\n",
    "                df_table[i] = 2\n",
    "            if df_table.iloc[i+9,6] - df_table.iloc[i,6]:\n",
    "                df_table[i] = 3\n",
    "            if\n",
    "    \n",
    "    \n",
    "    df_table.to_hdf(stockid+'_table.h5','stock_data_table_new',format='table',mode='w')"
   ]
  },
  {
   "cell_type": "code",
   "execution_count": null,
   "metadata": {
    "collapsed": true
   },
   "outputs": [],
   "source": []
  }
 ],
 "metadata": {
  "kernelspec": {
   "display_name": "Python 3",
   "language": "python",
   "name": "python3"
  },
  "language_info": {
   "codemirror_mode": {
    "name": "ipython",
    "version": 3
   },
   "file_extension": ".py",
   "mimetype": "text/x-python",
   "name": "python",
   "nbconvert_exporter": "python",
   "pygments_lexer": "ipython3",
   "version": "3.6.3"
  }
 },
 "nbformat": 4,
 "nbformat_minor": 2
}
